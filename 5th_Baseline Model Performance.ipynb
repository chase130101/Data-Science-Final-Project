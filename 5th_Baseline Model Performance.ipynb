{
 "cells": [
  {
   "cell_type": "markdown",
   "metadata": {},
   "source": [
    "# Baseline Model\n",
    "\n",
    "This is the code used to generate the days improvement metric for the baseline model. Previously, we found the failure rate of regular canvass inspections in each community area. For the baseline model, we assigned each restaurant a probability of failure equal to the failure rate of its community area. Inspecting the restaurants in descending order of estimated failure probability (random order in the case of ties) would have resulted in finding restaurants inspected from July 2016 through October 2016 (this was our test set) that failed their inspections an average of 4.6 days earlier than they were actually found."
   ]
  },
  {
   "cell_type": "code",
   "execution_count": 1,
   "metadata": {
    "collapsed": true
   },
   "outputs": [],
   "source": [
    "# import modules\n",
    "import numpy as np\n",
    "import pandas as pd\n",
    "import scipy as sp\n",
    "import math\n",
    "from IPython.display import display\n",
    "import matplotlib.pyplot as plt\n",
    "import matplotlib\n",
    "%matplotlib inline\n",
    "import sklearn\n",
    "from sklearn.neighbors import KNeighborsClassifier\n",
    "from sklearn import linear_model\n",
    "import matplotlib.pyplot as plt\n",
    "from sklearn import discriminant_analysis\n",
    "from sklearn.decomposition import PCA\n",
    "from sklearn import preprocessing\n",
    "from sklearn import tree\n",
    "from sklearn import ensemble\n",
    "from sklearn.cross_validation import KFold\n",
    "from sklearn.ensemble import RandomForestClassifier as RandomForest\n",
    "from sklearn.svm import SVC\n",
    "import csv\n",
    "import StringIO\n",
    "import string"
   ]
  },
  {
   "cell_type": "code",
   "execution_count": 2,
   "metadata": {
    "collapsed": true
   },
   "outputs": [],
   "source": [
    "# load data with pass rates by community area and full dataset\n",
    "comm_area_prob_fail_df = pd.read_csv('baseline 2.csv')\n",
    "canvass_full = pd.read_csv('canvass_full.csv')"
   ]
  },
  {
   "cell_type": "code",
   "execution_count": 3,
   "metadata": {
    "collapsed": false
   },
   "outputs": [
    {
     "data": {
      "text/plain": [
       "Index([u'Community Area', u'COMMUNITY AREA NAME', u'pass_prob'], dtype='object')"
      ]
     },
     "execution_count": 3,
     "metadata": {},
     "output_type": "execute_result"
    }
   ],
   "source": [
    "# column names for community area/pass rate dataset\n",
    "comm_area_prob_fail_df.columns"
   ]
  },
  {
   "cell_type": "code",
   "execution_count": 4,
   "metadata": {
    "collapsed": false,
    "scrolled": false
   },
   "outputs": [],
   "source": [
    "# function to calculate avg days improvement for the baseline model\n",
    "# baseline assigns probability of passing to restaurant using the pass probability of its community area\n",
    "def avg_days_improvement_baseline():\n",
    "    \n",
    "    global canvass_full\n",
    "    global comm_area_prob_fail_df\n",
    "    baseline_2 = pd.merge(canvass_full, comm_area_prob_fail_df, how = 'left', on = ['Community Area', 'COMMUNITY AREA NAME'])\n",
    "\n",
    "    baseline_proba_test = baseline_2[(baseline_2['Inspection Date'] >= '2016-07-01') & (baseline_2['Inspection Date'] < '2016-11-01')].loc[:, ('pass_prob', 'Results')]\n",
    "    baseline_proba_test_sort = baseline_proba_test.sort_values(['pass_prob'])\n",
    "\n",
    "    inspection_date_test = baseline_2['Inspection Date'][(baseline_2['Inspection Date'] >= '2016-07-01') & (baseline_2['Inspection Date'] < '2016-11-01')]\n",
    "    inspection_date_test_sort = inspection_date_test.sort_values().values\n",
    "\n",
    "    baseline_proba_test_sort['Inspection Date 2'] = pd.Series(inspection_date_test_sort, index = baseline_proba_test_sort.index)\n",
    "\n",
    "    truth = baseline_2[(baseline_2['Inspection Date'] >= '2016-07-01') & (baseline_2['Inspection Date'] < '2016-11-01')].loc[:, ('Inspection Date', 'Results')]\n",
    "\n",
    "    combined = pd.concat([truth, baseline_proba_test_sort], axis = 1)\n",
    "    combined_2 = combined.iloc[:, (0, 1, 2, 4)]\n",
    "\n",
    "    fail_df = combined_2[combined_2['Results'] == 'Fail']\n",
    "    fail_df['Original - New'] = pd.Series(pd.to_datetime(fail_df['Inspection Date']) - pd.to_datetime(fail_df['Inspection Date 2']))\n",
    "\n",
    "    mean_improvement = np.mean(fail_df['Original - New'])\n",
    "    days_improvement = mean_improvement.days\n",
    "    day_fraction = mean_improvement.seconds/(24.0 * 60 * 60)\n",
    "\n",
    "    improvement_vec = np.array(fail_df['Original - New']) * (1.15741 * (10 ** -14))\n",
    "    improvement_vec_2 = [int(improvement_vec[i]) for i in range(len(improvement_vec))]\n",
    "    \n",
    "    return days_improvement + day_fraction, improvement_vec_2, fail_df"
   ]
  },
  {
   "cell_type": "code",
   "execution_count": 5,
   "metadata": {
    "collapsed": false
   },
   "outputs": [
    {
     "name": "stderr",
     "output_type": "stream",
     "text": [
      "C:\\Users\\chris\\Anaconda2\\lib\\site-packages\\ipykernel\\__main__.py:23: SettingWithCopyWarning: \n",
      "A value is trying to be set on a copy of a slice from a DataFrame.\n",
      "Try using .loc[row_indexer,col_indexer] = value instead\n",
      "\n",
      "See the caveats in the documentation: http://pandas.pydata.org/pandas-docs/stable/indexing.html#indexing-view-versus-copy\n"
     ]
    },
    {
     "data": {
      "image/png": "[encoded data removed]",
      "text/plain": [
       "<matplotlib.figure.Figure at 0x4aa2128>"
      ]
     },
     "metadata": {},
     "output_type": "display_data"
    },
    {
     "name": "stdout",
     "output_type": "stream",
     "text": [
      "Avg days improvement: 4.64954861111\n",
      "Median days improvement: 6.0\n",
      "Standard deviation of days improvement: 41.7501063918\n",
      "Proportion of failures found earlier or same: 0.560267857143\n",
      "Proportion of failures that would have been found in July and August using baseline: 0.691964285714\n",
      "Proportion of failures actually found in July and August: 0.683035714286\n"
     ]
    }
   ],
   "source": [
    "# histogram of days improvement for baseline model\n",
    "days_improve_4 = avg_days_improvement_baseline()\n",
    "\n",
    "positive_4 = [days_improve_4[1][i] for i in range(len(days_improve_4[1])) if days_improve_4[1][i] >= 0]\n",
    "negative_4 = [days_improve_4[1][i] for i in range(len(days_improve_4[1])) if days_improve_4[1][i] < 0]\n",
    "plt.hist(positive_4, bins = 11, color = 'g')\n",
    "plt.hist(negative_4, bins = 11, color = 'r')\n",
    "plt.title('Histogram of Days Improvement for Inspection Failures')\n",
    "plt.xlabel('Days Improvement')\n",
    "plt.ylabel('Frequency')\n",
    "plt.show()\n",
    "print 'Avg days improvement: ' + str(days_improve_4[0])\n",
    "print 'Median days improvement: ' + str(np.median(days_improve_4[1]))\n",
    "print 'Standard deviation of days improvement: ' + str(np.std(days_improve_4[1]))\n",
    "print 'Proportion of failures found earlier or same: ' + str(len(positive_4)/float(len(days_improve_4[1])))\n",
    "print 'Proportion of failures that would have been found in July and August using baseline: ' + str(len(days_improve_4[2][days_improve_4[2]['Inspection Date 2'] < '2016-09-01'])/float(len(days_improve_4[2])))\n",
    "print 'Proportion of failures actually found in July and August: ' + str(len(days_improve_4[2][days_improve_4[2]['Inspection Date'] < '2016-09-01'])/float(len(days_improve_4[2])))"
   ]
  }
 ],
 "metadata": {
  "anaconda-cloud": {},
  "kernelspec": {
   "display_name": "Python [default]",
   "language": "python",
   "name": "python2"
  },
  "language_info": {
   "codemirror_mode": {
    "name": "ipython",
    "version": 2
   },
   "file_extension": ".py",
   "mimetype": "text/x-python",
   "name": "python",
   "nbconvert_exporter": "python",
   "pygments_lexer": "ipython2",
   "version": "2.7.12"
  }
 },
 "nbformat": 4,
 "nbformat_minor": 1
}
