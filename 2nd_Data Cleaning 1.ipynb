{
 "cells": [
  {
   "cell_type": "markdown",
   "metadata": {},
   "source": [
    "# Data cleaning 1\n",
    "\n",
    "See comments and explanations below"
   ]
  },
  {
   "cell_type": "code",
   "execution_count": 172,
   "metadata": {
    "collapsed": true
   },
   "outputs": [],
   "source": [
    "# import modules\n",
    "import numpy as np\n",
    "import pandas as pd\n",
    "import scipy as sp\n",
    "import math\n",
    "from IPython.display import display\n",
    "import matplotlib.pyplot as plt\n",
    "import matplotlib\n",
    "%matplotlib inline\n",
    "import sklearn\n",
    "from sklearn.neighbors import KNeighborsClassifier\n",
    "from sklearn import linear_model\n",
    "import matplotlib.pyplot as plt\n",
    "from sklearn import discriminant_analysis\n",
    "from sklearn.decomposition import PCA\n",
    "from sklearn import preprocessing\n",
    "from sklearn import tree\n",
    "from sklearn import ensemble\n",
    "from sklearn.cross_validation import KFold\n",
    "import csv\n",
    "import StringIO\n",
    "import string"
   ]
  },
  {
   "cell_type": "code",
   "execution_count": 173,
   "metadata": {
    "collapsed": false
   },
   "outputs": [
    {
     "data": {
      "text/plain": [
       "Index([u'Unnamed: 0', u'Inspection ID', u'DBA Name', u'AKA Name', u'License #',\n",
       "       u'Facility Type', u'Risk', u'Address', u'City', u'State', u'Zip',\n",
       "       u'Inspection Date', u'Inspection Type', u'Results', u'Violations',\n",
       "       u'Latitude', u'Longitude', u'Location', u'Day of Week', u'Month',\n",
       "       u'Community Area', u'num_crimes_comm_area', u'num_complaints_comm_area',\n",
       "       u'COMMUNITY AREA NAME', u'PERCENT OF HOUSING CROWDED',\n",
       "       u'PERCENT HOUSEHOLDS BELOW POVERTY', u'PERCENT AGED 16+ UNEMPLOYED',\n",
       "       u'PERCENT AGED 25+ WITHOUT HIGH SCHOOL DIPLOMA',\n",
       "       u'PERCENT AGED UNDER 18 OR OVER 64', u'PER CAPITA INCOME ',\n",
       "       u'HARDSHIP INDEX', u'Birth Rate', u'General Fertility Rate',\n",
       "       u'Low Birth Weight', u'Prenatal Care Beginning in First Trimester',\n",
       "       u'Preterm Births', u'Teen Birth Rate', u'Assault (Homicide)',\n",
       "       u'Breast cancer in females', u'Cancer (All Sites)',\n",
       "       u'Colorectal Cancer', u'Diabetes-related', u'Firearm-related',\n",
       "       u'Infant Mortality Rate', u'Lung Cancer', u'Prostate Cancer in Males',\n",
       "       u'Stroke (Cerebrovascular Disease)', u'Tuberculosis', u'Dependency'],\n",
       "      dtype='object')"
      ]
     },
     "execution_count": 173,
     "metadata": {},
     "output_type": "execute_result"
    }
   ],
   "source": [
    "# load data\n",
    "full = pd.read_csv('full_data_2.csv')\n",
    "full.columns"
   ]
  },
  {
   "cell_type": "code",
   "execution_count": 174,
   "metadata": {
    "collapsed": false
   },
   "outputs": [],
   "source": [
    "# get dataframe with canvass inspections and complaints only\n",
    "full_2 = full[(full['Inspection Type'] == 'CANVAS') | (full['Inspection Type'] == 'Canvass') | \\\n",
    "                 (full['Inspection Type'] == 'Complaint')]"
   ]
  },
  {
   "cell_type": "markdown",
   "metadata": {},
   "source": [
    "For this project, we were interested in ranking restaurants based on their likelihoods to fail regular canvass inspections. We used complaints against restaurants as data to inform us about these likelihoods. Thus, we deleted all inspections with inspection types that were neither regular canvass inspections nor complaints."
   ]
  },
  {
   "cell_type": "code",
   "execution_count": 182,
   "metadata": {
    "collapsed": false
   },
   "outputs": [
    {
     "name": "stdout",
     "output_type": "stream",
     "text": [
      "\n"
     ]
    }
   ],
   "source": [
    "# if AKA name is missing, impute the DBA name\n",
    "for i in range(len(full_2)):\n",
    "    if pd.isnull(full_2.iloc[i, 3]):\n",
    "        full_2.iloc[i, 3] = full_2.iloc[i, 2]"
   ]
  },
  {
   "cell_type": "code",
   "execution_count": 183,
   "metadata": {
    "collapsed": true
   },
   "outputs": [
    {
     "name": "stdout",
     "output_type": "stream",
     "text": [
      "0 1000 2000 3000 4000 5000 6000 7000 8000 9000 10000 11000 12000 13000 14000 15000 16000 17000 18000 19000 20000 21000 22000 23000 24000 25000 26000 27000 28000 29000 30000 31000 32000 33000 34000 35000 36000 37000 38000 39000 40000 41000 42000 43000 44000 45000 46000 47000 48000 49000 50000 51000 52000 53000 54000 55000 56000 57000 58000 59000 60000 61000 62000 63000 64000 65000 66000 67000 68000\n"
     ]
    }
   ],
   "source": [
    "# due to punctuation inconsistencies in restaurant names with commas and apostrophes, we deleted punctuation in names that\n",
    "# contained them\n",
    "for i in range(len(full_2)):\n",
    "    if i % 1000 == 0:\n",
    "        print i,\n",
    "    if ',' in full_2.iloc[i, 2] or ',' in full_2.iloc[i, 3]:\n",
    "        full_2.iloc[i, 2] = full_2.iloc[i, 3].translate(None, string.punctuation)\n",
    "        full_2.iloc[i, 3] = full_2.iloc[i, 3].translate(None, string.punctuation)\n",
    "    if '\\'' in full_2.iloc[i, 2] or '\\'' in full_2.iloc[i, 3]:\n",
    "        full_2.iloc[i, 2] = full_2.iloc[i, 3].translate(None, string.punctuation)\n",
    "        full_2.iloc[i, 3] = full_2.iloc[i, 3].translate(None, string.punctuation)"
   ]
  },
  {
   "cell_type": "code",
   "execution_count": 197,
   "metadata": {
    "collapsed": false
   },
   "outputs": [],
   "source": [
    "#Sort restaurants by address, AKA name, License #, and DBA name\n",
    "full_2_sort = full_2.sort_values(by = ['Address', 'AKA Name', 'License #', 'DBA Name'])\n",
    "full_2_sort.reset_index(drop = True, inplace = True)"
   ]
  },
  {
   "cell_type": "code",
   "execution_count": 198,
   "metadata": {
    "collapsed": false
   },
   "outputs": [],
   "source": [
    "# give unique identifiers to restaurants\n",
    "restaurant_identifier = []\n",
    "number = 1\n",
    "\n",
    "for i in range(len(full_2_sort)):\n",
    "    \n",
    "    #Give restaurant id = number\n",
    "    restaurant_identifier.append(number)\n",
    "    \n",
    "    #If we get to the end, break loop\n",
    "    if i == len(full_2_sort) - 1:\n",
    "        break\n",
    "\n",
    "    #If the next restaurant has the same name and address, continue to next interation of loop \n",
    "    #i.e. give them the same identifier\n",
    "    if (full_2_sort.loc[i, 'DBA Name'][0:20] == full_2_sort.loc[i + 1, 'DBA Name'][0:20] and \n",
    "        full_2_sort.loc[i, 'Address'][0:10] == full_2_sort.loc[i + 1, 'Address'][0:10] and \n",
    "        full_2_sort.loc[i, 'AKA Name'][0:6] == full_2_sort.loc[i + 1, 'AKA Name'][0:6]):\n",
    "        continue\n",
    "    \n",
    "    #Otherwise, increase the identifier by 1\n",
    "    else:\n",
    "        number += 1\n",
    "\n",
    "full_3 = full_2_sort.copy()\n",
    "full_3['restaurant_id'] = pd.Series(restaurant_identifier, index = full_3.index)"
   ]
  },
  {
   "cell_type": "code",
   "execution_count": 199,
   "metadata": {
    "collapsed": true
   },
   "outputs": [],
   "source": [
    "# drop observations with no community area available\n",
    "full_4 = full_3.dropna(subset = [full_3.columns[21]])\n",
    "full_4 = full_4.drop(['Unnamed: 0'], axis = 1)"
   ]
  },
  {
   "cell_type": "code",
   "execution_count": 202,
   "metadata": {
    "collapsed": false
   },
   "outputs": [],
   "source": [
    "# make text denoting regular canvass inspections consistent\n",
    "for i in range(len(full_4)):\n",
    "    if full_4.iloc[i, 11] == 'CANVAS':\n",
    "        full_4.iloc[i, 11] = 'Canvass'"
   ]
  },
  {
   "cell_type": "code",
   "execution_count": 203,
   "metadata": {
    "collapsed": true
   },
   "outputs": [],
   "source": [
    "# change inspection results with 'Pass w/ Condtions' to 'Pass'\n",
    "for i in range(len(full_4)):\n",
    "    if full_4.iloc[i, 12] == 'Pass w/ Conditions':\n",
    "        full_4.iloc[i, 12] = 'Pass'"
   ]
  },
  {
   "cell_type": "markdown",
   "metadata": {},
   "source": [
    "Having three classes for inspection results was unnecessary for this project since our goal was to rank restaurants by likelihood of failure. Thus, we decided to mark inspections with the result 'Pass w/ Conditions' as 'Pass' since those inspections were ultimately passes."
   ]
  }
 ],
 "metadata": {
  "anaconda-cloud": {},
  "kernelspec": {
   "display_name": "Python [default]",
   "language": "python",
   "name": "python2"
  },
  "language_info": {
   "codemirror_mode": {
    "name": "ipython",
    "version": 2
   },
   "file_extension": ".py",
   "mimetype": "text/x-python",
   "name": "python",
   "nbconvert_exporter": "python",
   "pygments_lexer": "ipython2",
   "version": "2.7.12"
  }
 },
 "nbformat": 4,
 "nbformat_minor": 1
}
