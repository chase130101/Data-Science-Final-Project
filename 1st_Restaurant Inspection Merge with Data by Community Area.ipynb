{
 "cells": [
  {
   "cell_type": "markdown",
   "metadata": {},
   "source": [
    "# Merging restaurant inspection data and community area data\n",
    "\n",
    "We found Census data and public health data for each community area. We also found crimes data and sanitation complaints data included community area. Wanting to connect data from these datasets to our restaurant inspection dataset, we used the crime dataset to obtain the community areas of the restaurants (this is explained below). \n",
    "\n",
    "We aggregated the number of crimes and sanitation complaints by community area. We then merged these two aggregations as well as the Census and public health data with the restaurant inspection data."
   ]
  },
  {
   "cell_type": "code",
   "execution_count": 1,
   "metadata": {
    "collapsed": true
   },
   "outputs": [],
   "source": [
    "import numpy as np\n",
    "import pandas as pd\n",
    "import scipy as sp\n",
    "import math\n",
    "from IPython.display import display\n",
    "import matplotlib.pyplot as plt\n",
    "import matplotlib\n",
    "%matplotlib inline\n",
    "import sklearn\n",
    "from sklearn.neighbors import KNeighborsClassifier\n",
    "from sklearn import linear_model\n",
    "import matplotlib.pyplot as plt\n",
    "from sklearn import discriminant_analysis\n",
    "from sklearn.decomposition import PCA\n",
    "from sklearn import preprocessing\n",
    "from sklearn import tree\n",
    "from sklearn import ensemble\n",
    "from sklearn.cross_validation import KFold\n",
    "import csv\n",
    "import StringIO"
   ]
  },
  {
   "cell_type": "code",
   "execution_count": 2,
   "metadata": {
    "collapsed": false
   },
   "outputs": [
    {
     "data": {
      "text/plain": [
       "Index([u'Unnamed: 0', u'Inspection ID', u'DBA Name', u'AKA Name', u'License #',\n",
       "       u'Facility Type', u'Risk', u'Address', u'City', u'State', u'Zip',\n",
       "       u'Inspection Date', u'Inspection Type', u'Results', u'Violations',\n",
       "       u'Latitude', u'Longitude', u'Location', u'Day of Week', u'Month'],\n",
       "      dtype='object')"
      ]
     },
     "execution_count": 2,
     "metadata": {},
     "output_type": "execute_result"
    }
   ],
   "source": [
    "# load full data; drop observations with no location\n",
    "full = pd.read_csv('full data.csv')\n",
    "full = full.iloc[:, :-1]\n",
    "full_drop_no_loc = full.dropna(subset = [full.columns[-4]])\n",
    "full_drop_no_loc.columns"
   ]
  },
  {
   "cell_type": "markdown",
   "metadata": {},
   "source": [
    "We dropped restaurant inspections with no location because without location data, there was no way to connect Census or crime data to the restaurant inspections data frame. We did not feel that it was reasonable to attempt to impute missing values for the location of a restaurant. Luckily, there were not that many restaurant inspections with missing locations."
   ]
  },
  {
   "cell_type": "code",
   "execution_count": 3,
   "metadata": {
    "collapsed": false
   },
   "outputs": [
    {
     "name": "stdout",
     "output_type": "stream",
     "text": [
      "Index([u'ID', u'Case Number', u'Date', u'Block', u'IUCR', u'Primary Type',\n",
      "       u'Description', u'Location Description', u'Arrest', u'Domestic',\n",
      "       u'Beat', u'District', u'Ward', u'Community Area', u'FBI Code',\n",
      "       u'X Coordinate', u'Y Coordinate', u'Year', u'Updated On', u'Latitude',\n",
      "       u'Longitude', u'Location'],\n",
      "      dtype='object')\n"
     ]
    }
   ],
   "source": [
    "# load crimes data; drop crimes with no location\n",
    "crimes = pd.read_csv('Crimes_2015.csv')\n",
    "print crimes.columns\n",
    "crimes_drop_no_loc = crimes.dropna(subset = [crimes.columns[-1]])"
   ]
  },
  {
   "cell_type": "markdown",
   "metadata": {},
   "source": [
    "Without crime location, there is no way to connect it to a particular restaurant or group of restaurants, so we dropped each crime for which the location was missing."
   ]
  },
  {
   "cell_type": "code",
   "execution_count": 4,
   "metadata": {
    "collapsed": false
   },
   "outputs": [
    {
     "name": "stdout",
     "output_type": "stream",
     "text": [
      "Index([u'Creation Date', u'Status', u'Completion Date',\n",
      "       u'Service Request Number', u'Type of Service Request',\n",
      "       u'What is the Nature of this Code Violation?', u'Street Address',\n",
      "       u'ZIP Code', u'X Coordinate', u'Y Coordinate', u'Ward',\n",
      "       u'Police District', u'Community Area', u'Latitude', u'Longitude',\n",
      "       u'Location'],\n",
      "      dtype='object')\n"
     ]
    }
   ],
   "source": [
    "# load complaints data; drop complaints with no location\n",
    "complaints = pd.read_csv('Complaints.csv')\n",
    "print complaints.columns\n",
    "complaints_drop_no_loc = complaints.dropna(subset = [complaints.columns[-1]])"
   ]
  },
  {
   "cell_type": "markdown",
   "metadata": {},
   "source": [
    "Without complaint location, there is no way to connect it to a particular restaurant or group of restaurants, so we dropped each sanitation complaint for which the location was missing."
   ]
  },
  {
   "cell_type": "code",
   "execution_count": 5,
   "metadata": {
    "collapsed": false
   },
   "outputs": [],
   "source": [
    "# getting community area of restaurants using crime data\n",
    "crimes_knn = KNeighborsClassifier(n_neighbors = 1)\n",
    "crimes_knn.fit(crimes_drop_no_loc.iloc[:, (-3, -2)], crimes_drop_no_loc['Community Area'])\n",
    "full_comm_area_pred = crimes_knn.predict(full_drop_no_loc.iloc[:, (-5, -4)])\n",
    "full_comm_area_pred_str = [str(int(i)) for i in full_comm_area_pred]\n",
    "\n",
    "full_comm_area = full_drop_no_loc.copy()\n",
    "full_comm_area['Community Area'] = pd.Series(full_comm_area_pred_str, index = full_comm_area.index)"
   ]
  },
  {
   "cell_type": "markdown",
   "metadata": {},
   "source": [
    "Both the crime data and the restaurant inspection data contained latitude and longitude variables, but only the crime data contained community area. Because there was existing Census and public health data for the community areas of Chicago, we wanted to determine the community area of each restaurant to connect the Census and public health data to the restaurant inspection data. Because of the number of crimes and the number of restaurants, for each restaurant, there was some crime that occurred very close by. Thus, we assigned each restaurant the community area of the closest crime. "
   ]
  },
  {
   "cell_type": "code",
   "execution_count": 8,
   "metadata": {
    "collapsed": false
   },
   "outputs": [],
   "source": [
    "# getting # crimes in each community area\n",
    "crimes_comm_area = np.unique(crimes_drop_no_loc['Community Area'])\n",
    "crimes_comm_area_str = [str(int(i)) for i in crimes_comm_area]\n",
    "\n",
    "num_crimes_comm_area = []\n",
    "for i in crimes_comm_area:\n",
    "    num_crimes_comm_area.append(len(crimes_drop_no_loc[crimes_drop_no_loc['Community Area'] == i]))\n",
    "\n",
    "num_crimes_comm_area_df = pd.DataFrame(data = {'Community Area' : crimes_comm_area_str, \\\n",
    "                                       'num_crimes_comm_area' : num_crimes_comm_area})"
   ]
  },
  {
   "cell_type": "markdown",
   "metadata": {},
   "source": [
    "We will use number of crimes in each community area in 2015 as a covariate for our model."
   ]
  },
  {
   "cell_type": "code",
   "execution_count": 9,
   "metadata": {
    "collapsed": false
   },
   "outputs": [],
   "source": [
    "# getting # complaints in each community area\n",
    "complaints_comm_area = np.unique(complaints_drop_no_loc['Community Area'])\n",
    "complaints_comm_area_str = [str(int(i)) for i in complaints_comm_area]\n",
    "\n",
    "num_complaints_comm_area = []\n",
    "for i in complaints_comm_area:\n",
    "    num_complaints_comm_area.append(len(complaints_drop_no_loc[complaints_drop_no_loc['Community Area'] == i]))\n",
    "\n",
    "num_complaints_comm_area_df = pd.DataFrame(data = {'Community Area' : complaints_comm_area_str, \\\n",
    "                                       'num_complaints_comm_area' : num_complaints_comm_area})"
   ]
  },
  {
   "cell_type": "markdown",
   "metadata": {},
   "source": [
    "We will use number of sanitation complaints each in community area since 2011 as a covariate for our model."
   ]
  },
  {
   "cell_type": "code",
   "execution_count": 19,
   "metadata": {
    "collapsed": false
   },
   "outputs": [
    {
     "name": "stdout",
     "output_type": "stream",
     "text": [
      "Index([u'Community Area', u'COMMUNITY AREA NAME',\n",
      "       u'PERCENT OF HOUSING CROWDED', u'PERCENT HOUSEHOLDS BELOW POVERTY',\n",
      "       u'PERCENT AGED 16+ UNEMPLOYED',\n",
      "       u'PERCENT AGED 25+ WITHOUT HIGH SCHOOL DIPLOMA',\n",
      "       u'PERCENT AGED UNDER 18 OR OVER 64', u'PER CAPITA INCOME ',\n",
      "       u'HARDSHIP INDEX'],\n",
      "      dtype='object')\n"
     ]
    }
   ],
   "source": [
    "# load census data; change column name for community area number\n",
    "census_chi = pd.read_csv('Census_Data_-_Selected_socioeconomic_indicators_in_Chicago__2008___2012.csv')\n",
    "census_chi.columns = ['Community Area', 'COMMUNITY AREA NAME',\n",
    "       'PERCENT OF HOUSING CROWDED', 'PERCENT HOUSEHOLDS BELOW POVERTY', 'PERCENT AGED 16+ UNEMPLOYED',\n",
    "       'PERCENT AGED 25+ WITHOUT HIGH SCHOOL DIPLOMA', 'PERCENT AGED UNDER 18 OR OVER 64', 'PER CAPITA INCOME ','HARDSHIP INDEX']\n",
    "print census_chi.columns\n",
    "\n",
    "for i in range(len(census_chi) - 1):\n",
    "    census_chi.iloc[i, 0] = str(int(census_chi.iloc[i, 0]))"
   ]
  },
  {
   "cell_type": "markdown",
   "metadata": {},
   "source": [
    "We found Census data for Chicago for the years 2008-2012 that included selected socioeconomic indicators for each community area. We plan to use these indicators as covariates in our model."
   ]
  },
  {
   "cell_type": "code",
   "execution_count": 20,
   "metadata": {
    "collapsed": false
   },
   "outputs": [
    {
     "name": "stdout",
     "output_type": "stream",
     "text": [
      "Index([u'Community Area', u'Birth Rate', u'General Fertility Rate',\n",
      "       u'Low Birth Weight', u'Prenatal Care Beginning in First Trimester',\n",
      "       u'Preterm Births', u'Teen Birth Rate', u'Assault (Homicide)',\n",
      "       u'Breast cancer in females', u'Cancer (All Sites)',\n",
      "       u'Colorectal Cancer', u'Diabetes-related', u'Firearm-related',\n",
      "       u'Infant Mortality Rate', u'Lung Cancer', u'Prostate Cancer in Males',\n",
      "       u'Stroke (Cerebrovascular Disease)', u'Tuberculosis', u'Dependency'],\n",
      "      dtype='object')\n"
     ]
    }
   ],
   "source": [
    "# load public health data; delete data that we already have from census; delete columns with missing data\n",
    "pub_health_chi = pd.read_csv('Public_Health_Statistics-_Selected_public_health_indicators_by_Chicago_community_area.csv')\n",
    "pub_health_chi = pub_health_chi.iloc[:, :-3]\n",
    "wanted_cols = [i for i in range(2, len(pub_health_chi.columns) - 8)]\n",
    "wanted_cols.append(0)\n",
    "wanted_cols.append(22)\n",
    "wanted_cols.append(25)\n",
    "wanted_cols.sort()\n",
    "pub_health_chi = pub_health_chi.iloc[:, (wanted_cols)]\n",
    "print pub_health_chi.columns\n",
    "\n",
    "for i in range(len(pub_health_chi)):\n",
    "    pub_health_chi.iloc[i, 0] = str(int(pub_health_chi.iloc[i, 0]))"
   ]
  },
  {
   "cell_type": "markdown",
   "metadata": {},
   "source": [
    "We found public health data Chicago for the years 2005-2011 that included selected health indicators for each community area. We plan to use these indicators as covariates in our model. Some of the indicators were repeats from the Census data, so those indicators were deleted."
   ]
  },
  {
   "cell_type": "code",
   "execution_count": 21,
   "metadata": {
    "collapsed": true
   },
   "outputs": [],
   "source": [
    "# merge complaints and crimes by community area\n",
    "comm_area_df = pd.merge(num_crimes_comm_area_df, num_complaints_comm_area_df, how = 'left', on = ['Community Area']) "
   ]
  },
  {
   "cell_type": "code",
   "execution_count": 22,
   "metadata": {
    "collapsed": false
   },
   "outputs": [],
   "source": [
    "# merge census data with crimes and complaints by community area\n",
    "comm_area_df = pd.merge(comm_area_df, census_chi, how = 'left', on = ['Community Area']) "
   ]
  },
  {
   "cell_type": "code",
   "execution_count": 23,
   "metadata": {
    "collapsed": true
   },
   "outputs": [],
   "source": [
    "# merge public health data with census, crimes, and complaints  data by community area\n",
    "comm_area_df = pd.merge(comm_area_df, pub_health_chi, how = 'left', on = ['Community Area']) "
   ]
  },
  {
   "cell_type": "code",
   "execution_count": 24,
   "metadata": {
    "collapsed": false
   },
   "outputs": [],
   "source": [
    "# delete community area 0 (doesn't exist)\n",
    "comm_area_df = comm_area_df.iloc[1:, :]"
   ]
  },
  {
   "cell_type": "code",
   "execution_count": 25,
   "metadata": {
    "collapsed": false
   },
   "outputs": [
    {
     "data": {
      "text/plain": [
       "Index([u'Unnamed: 0', u'Inspection ID', u'DBA Name', u'AKA Name', u'License #',\n",
       "       u'Facility Type', u'Risk', u'Address', u'City', u'State', u'Zip',\n",
       "       u'Inspection Date', u'Inspection Type', u'Results', u'Violations',\n",
       "       u'Latitude', u'Longitude', u'Location', u'Day of Week', u'Month',\n",
       "       u'Community Area', u'num_crimes_comm_area', u'num_complaints_comm_area',\n",
       "       u'COMMUNITY AREA NAME', u'PERCENT OF HOUSING CROWDED',\n",
       "       u'PERCENT HOUSEHOLDS BELOW POVERTY', u'PERCENT AGED 16+ UNEMPLOYED',\n",
       "       u'PERCENT AGED 25+ WITHOUT HIGH SCHOOL DIPLOMA',\n",
       "       u'PERCENT AGED UNDER 18 OR OVER 64', u'PER CAPITA INCOME ',\n",
       "       u'HARDSHIP INDEX', u'Birth Rate', u'General Fertility Rate',\n",
       "       u'Low Birth Weight', u'Prenatal Care Beginning in First Trimester',\n",
       "       u'Preterm Births', u'Teen Birth Rate', u'Assault (Homicide)',\n",
       "       u'Breast cancer in females', u'Cancer (All Sites)',\n",
       "       u'Colorectal Cancer', u'Diabetes-related', u'Firearm-related',\n",
       "       u'Infant Mortality Rate', u'Lung Cancer', u'Prostate Cancer in Males',\n",
       "       u'Stroke (Cerebrovascular Disease)', u'Tuberculosis', u'Dependency'],\n",
       "      dtype='object')"
      ]
     },
     "execution_count": 25,
     "metadata": {},
     "output_type": "execute_result"
    }
   ],
   "source": [
    "# merge restaurant inspection and community area data\n",
    "full_data = pd.merge(full_comm_area, comm_area_df, how = 'left', on = ['Community Area'])\n",
    "full_data.columns"
   ]
  },
  {
   "cell_type": "code",
   "execution_count": 26,
   "metadata": {
    "collapsed": false
   },
   "outputs": [
    {
     "data": {
      "text/plain": [
       "Index([u'Unnamed: 0', u'Inspection ID', u'DBA Name', u'AKA Name', u'License #',\n",
       "       u'Facility Type', u'Risk', u'Address', u'City', u'State', u'Zip',\n",
       "       u'Inspection Date', u'Inspection Type', u'Results', u'Violations',\n",
       "       u'Latitude', u'Longitude', u'Location', u'Day of Week', u'Month',\n",
       "       u'Community Area', u'num_crimes_comm_area', u'num_complaints_comm_area',\n",
       "       u'COMMUNITY AREA NAME', u'PERCENT OF HOUSING CROWDED',\n",
       "       u'PERCENT HOUSEHOLDS BELOW POVERTY', u'PERCENT AGED 16+ UNEMPLOYED',\n",
       "       u'PERCENT AGED 25+ WITHOUT HIGH SCHOOL DIPLOMA',\n",
       "       u'PERCENT AGED UNDER 18 OR OVER 64', u'PER CAPITA INCOME ',\n",
       "       u'HARDSHIP INDEX', u'Birth Rate', u'General Fertility Rate',\n",
       "       u'Low Birth Weight', u'Prenatal Care Beginning in First Trimester',\n",
       "       u'Preterm Births', u'Teen Birth Rate', u'Assault (Homicide)',\n",
       "       u'Breast cancer in females', u'Cancer (All Sites)',\n",
       "       u'Colorectal Cancer', u'Diabetes-related', u'Firearm-related',\n",
       "       u'Infant Mortality Rate', u'Lung Cancer', u'Prostate Cancer in Males',\n",
       "       u'Stroke (Cerebrovascular Disease)', u'Tuberculosis', u'Dependency'],\n",
       "      dtype='object')"
      ]
     },
     "execution_count": 26,
     "metadata": {},
     "output_type": "execute_result"
    }
   ],
   "source": [
    "# combining with restaurant inspection data that doesn't have community area\n",
    "wanted_cols = [0]\n",
    "for i in range(len(full_data.columns)):\n",
    "    if i >= 20:\n",
    "        wanted_cols.append(i)\n",
    "all_full = pd.merge(full, full_data.iloc[:, (wanted_cols)], how = 'left', on = ['Unnamed: 0'])\n",
    "all_full.columns"
   ]
  },
  {
   "cell_type": "code",
   "execution_count": 27,
   "metadata": {
    "collapsed": true
   },
   "outputs": [],
   "source": [
    "# write file with restaurant inspection data and community area data added\n",
    "with open('full_data_2.csv', 'wb') as f:\n",
    "    writer = csv.writer(f)\n",
    "    writer.writerow(['Unnamed: 0', 'Inspection ID', 'DBA Name', 'AKA Name', 'License #',\n",
    "       'Facility Type', 'Risk', 'Address', 'City', 'State', 'Zip',\n",
    "       'Inspection Date', 'Inspection Type', 'Results', 'Violations',\n",
    "       'Latitude', 'Longitude', 'Location', 'Day of Week', 'Month',\n",
    "       'Community Area', 'num_crimes_comm_area', 'num_complaints_comm_area',\n",
    "       'COMMUNITY AREA NAME', 'PERCENT OF HOUSING CROWDED',\n",
    "       'PERCENT HOUSEHOLDS BELOW POVERTY', 'PERCENT AGED 16+ UNEMPLOYED',\n",
    "       'PERCENT AGED 25+ WITHOUT HIGH SCHOOL DIPLOMA',\n",
    "       'PERCENT AGED UNDER 18 OR OVER 64', 'PER CAPITA INCOME ',\n",
    "       'HARDSHIP INDEX', 'Birth Rate', 'General Fertility Rate',\n",
    "       'Low Birth Weight', 'Prenatal Care Beginning in First Trimester',\n",
    "       'Preterm Births', 'Teen Birth Rate', 'Assault (Homicide)',\n",
    "       'Breast cancer in females', 'Cancer (All Sites)',\n",
    "       'Colorectal Cancer', 'Diabetes-related', 'Firearm-related',\n",
    "       'Infant Mortality Rate', 'Lung Cancer', 'Prostate Cancer in Males',\n",
    "       'Stroke (Cerebrovascular Disease)', 'Tuberculosis', 'Dependency'])\n",
    "    writer.writerows(all_full.values)"
   ]
  },
  {
   "cell_type": "code",
   "execution_count": 28,
   "metadata": {
    "collapsed": true
   },
   "outputs": [],
   "source": [
    "# data file with community area data only\n",
    "with open('comm_area_data.csv', 'wb') as f:\n",
    "    writer = csv.writer(f)\n",
    "    writer.writerow(['Community Area', 'num_crimes_comm_area', 'num_complaints_comm_area',\n",
    "       'COMMUNITY AREA NAME', 'PERCENT OF HOUSING CROWDED',\n",
    "       'PERCENT HOUSEHOLDS BELOW POVERTY', 'PERCENT AGED 16+ UNEMPLOYED',\n",
    "       'PERCENT AGED 25+ WITHOUT HIGH SCHOOL DIPLOMA',\n",
    "       'PERCENT AGED UNDER 18 OR OVER 64', 'PER CAPITA INCOME ',\n",
    "       'HARDSHIP INDEX', 'Birth Rate', 'General Fertility Rate',\n",
    "       'Low Birth Weight', 'Prenatal Care Beginning in First Trimester',\n",
    "       'Preterm Births', 'Teen Birth Rate', 'Assault (Homicide)',\n",
    "       'Breast cancer in females', 'Cancer (All Sites)',\n",
    "       'Colorectal Cancer', 'Diabetes-related', 'Firearm-related',\n",
    "       'Infant Mortality Rate', 'Lung Cancer', 'Prostate Cancer in Males',\n",
    "       'Stroke (Cerebrovascular Disease)', 'Tuberculosis', 'Dependency'])\n",
    "    writer.writerows(comm_area_df.values)"
   ]
  }
 ],
 "metadata": {
  "anaconda-cloud": {},
  "kernelspec": {
   "display_name": "Python [default]",
   "language": "python",
   "name": "python2"
  },
  "language_info": {
   "codemirror_mode": {
    "name": "ipython",
    "version": 2
   },
   "file_extension": ".py",
   "mimetype": "text/x-python",
   "name": "python",
   "nbconvert_exporter": "python",
   "pygments_lexer": "ipython2",
   "version": "2.7.12"
  }
 },
 "nbformat": 4,
 "nbformat_minor": 1
}
