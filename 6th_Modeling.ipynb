{
 "cells": [
  {
   "cell_type": "markdown",
   "metadata": {},
   "source": [
    "# Modeling\n",
    "\n",
    "This is the code for the modeling portion of the project. All of the variables we use in the final model were chosen previously through various methods, and in this notebook we tested the accuracy of a variety of models initially and tuned the parameters for a logistic regression model and a random forest model. The cross-validation score we used to choose the best parameters for the model was our average days improvement metric. This metric is defined as follows: \n",
    "\n",
    "    Inspecting the restaurants in descending order of estimated failure probability would have resulted in finding           restaurants that failed their most recent inspections an average of X days earlier than they were actually found.\n",
    "\n",
    "This makes sense since our objective is really to find restaurants that are going to fail their inspections earlier, not to accurately classify inspections as passes or failures. Ultimately, this resulted in better models in terms of optimizing our average days improvement metric for the test set than using accuracy for the cross-validation score did. We found that the tuned random forest model performed slightly better on the test set than the tuned logistic regression model. \n",
    "\n",
    "Our training set consisted of most recent inspections for each restaurant from January 2010 through June 2016. Our test set consisted of most recent inspections for each restaurant from July 2016 through October 2016.\n",
    "\n",
    "Inspecting the restaurants in descending order of estimated failure probability using the random forest model would have resulted in finding restaurants inspected from July 2016 through October 2016 (this was our test set) that failed their inspections an average of 7.4 days earlier than they were actually found. 75% of the failures occurring in this timeframe would have been found in July and August using the random forest model while 68.3% of the failures were actually found."
   ]
  },
  {
   "cell_type": "code",
   "execution_count": 1,
   "metadata": {
    "collapsed": true
   },
   "outputs": [],
   "source": [
    "# import modules\n",
    "import numpy as np\n",
    "import pandas as pd\n",
    "import scipy as sp\n",
    "import math\n",
    "from IPython.display import display\n",
    "import matplotlib.pyplot as plt\n",
    "import matplotlib\n",
    "%matplotlib inline\n",
    "import sklearn\n",
    "from sklearn.neighbors import KNeighborsClassifier\n",
    "from sklearn import linear_model\n",
    "import matplotlib.pyplot as plt\n",
    "from sklearn import discriminant_analysis\n",
    "from sklearn.decomposition import PCA\n",
    "from sklearn import preprocessing\n",
    "from sklearn import tree\n",
    "from sklearn import ensemble\n",
    "from sklearn.cross_validation import KFold\n",
    "from sklearn.ensemble import RandomForestClassifier as RandomForest\n",
    "from sklearn.svm import SVC\n",
    "import csv\n",
    "import StringIO\n",
    "import string"
   ]
  },
  {
   "cell_type": "code",
   "execution_count": 2,
   "metadata": {
    "collapsed": false
   },
   "outputs": [],
   "source": [
    "# load data and set indices to what they were when written to file\n",
    "canvass_train = pd.read_csv('canvass_train.csv')\n",
    "canvass_test = pd.read_csv('canvass_test.csv')\n",
    "canvass_dum_2 = pd.read_csv('canvass_full_2.csv')\n",
    "comm_area_prob_fail_df = pd.read_csv('baseline.csv')\n",
    "\n",
    "canvass_train = canvass_train.set_index(canvass_train.columns[0])\n",
    "canvass_test = canvass_test.set_index(canvass_test.columns[0])\n",
    "canvass_dum_2 = canvass_dum_2.set_index(canvass_dum_2.columns[0])"
   ]
  },
  {
   "cell_type": "code",
   "execution_count": 3,
   "metadata": {
    "collapsed": false
   },
   "outputs": [],
   "source": [
    "# break train and test into x and y and delete inspection dates and results\n",
    "canvass_train_y = canvass_train['Results_Fail']\n",
    "canvass_test_y = canvass_test['Results_Fail']\n",
    "\n",
    "canvass_train_x = canvass_train.drop(['Results_Fail', 'Inspection Date'], axis = 1)\n",
    "canvass_test_x = canvass_test.drop(['Results_Fail', 'Inspection Date'], axis = 1)"
   ]
  },
  {
   "cell_type": "code",
   "execution_count": 4,
   "metadata": {
    "collapsed": false
   },
   "outputs": [
    {
     "name": "stdout",
     "output_type": "stream",
     "text": [
      "Train length: 14545\n",
      "Test length: 1716\n",
      "\n",
      "Train accuracy if classify all observations as pass: 0.740873152286\n",
      "Test accuracy if classify all observations as pass: 0.738927738928\n"
     ]
    }
   ],
   "source": [
    "# length of testing and training sets\n",
    "print 'Train length: ' + str(len(canvass_train))\n",
    "print 'Test length: ' + str(len(canvass_test))\n",
    "print\n",
    "\n",
    "# accuracy if classify all as pass\n",
    "print 'Train accuracy if classify all observations as pass: ' + str(1 - np.sum(canvass_train_y)/float(len(canvass_train_y)))\n",
    "print 'Test accuracy if classify all observations as pass: ' + str(1 - np.sum(canvass_test_y)/float(len(canvass_test_y)))"
   ]
  },
  {
   "cell_type": "code",
   "execution_count": 21,
   "metadata": {
    "collapsed": false
   },
   "outputs": [],
   "source": [
    "# to be used in avg days improvement functions\n",
    "inspection_date = canvass_dum_2['Inspection Date']"
   ]
  },
  {
   "cell_type": "code",
   "execution_count": 22,
   "metadata": {
    "collapsed": true
   },
   "outputs": [],
   "source": [
    "# calculates average number of days improvement from actual inspections using rankings of restaurants from model\n",
    "# to be used as cross-validation scoring function when tuning parameters\n",
    "def avg_days_improvement(model, X, y):\n",
    "    \n",
    "    global inspection_date # get the inspection dates from the data\n",
    "    inspection_date_2 = inspection_date.drop(X.index)\n",
    "    inspection_date_3 = inspection_date.drop(inspection_date_2.index) # get the inspection dates for the obserations in X\n",
    "    inspection_date_sort = inspection_date_3.sort_values().values # sort the inspection dates for the observations in X\n",
    "    \n",
    "    proba_y = model.predict_proba(X) # use model to estimate the probabilities that a restaurant passes or fails\n",
    "    \n",
    "    # create a dataframe of results and corresponding inspection dates\n",
    "    date_result = pd.concat([inspection_date_3, y], axis = 1)\n",
    "    date_result_sort = date_result.sort_values(by = [date_result.columns[0]])\n",
    "    \n",
    "    # create a dataframe of observations, results, and estimated probabilities\n",
    "    #sort dataframe by descending estimated probability of failure\n",
    "    # add the sorted inspection dates to the dataframe to see what data we would have inspected a restaurant using model\n",
    "    X_y = pd.concat([X, y], axis = 1)\n",
    "    X_y['Prob Fail'] = pd.Series(proba_y[:, 1], index = X_y.index)\n",
    "    date_proba_result_sort = X_y.loc[:, ('Prob Fail', 'Results_Fail')].sort_values(['Prob Fail'], ascending = False)\n",
    "    date_proba_result_sort['Inspection Date 2'] = pd.Series(inspection_date_sort, index = date_proba_result_sort.index)\n",
    "    \n",
    "    # concatenate the 2 dataframes creates above to get the inspection date deltas for failed inspections\n",
    "    date_result_pred = pd.concat([date_result_sort, date_proba_result_sort], axis = 1)\n",
    "    date_result_pred_2 = date_result_pred.iloc[:, (0, 1, 2, 4)]\n",
    "    \n",
    "    # subset the above dataframe to look at failures only\n",
    "    fail_df = date_result_pred_2[date_result_pred_2['Results_Fail'] == 1]\n",
    "    fail_df['Original - New'] = pd.Series(pd.to_datetime(fail_df['Inspection Date']) - pd.to_datetime(fail_df['Inspection Date 2']))\n",
    "    \n",
    "    # calculate average of inspection date deltas for failed inspections\n",
    "    mean_improvement = np.mean(fail_df['Original - New'])\n",
    "    days_improvement = mean_improvement.days\n",
    "    day_fraction = mean_improvement.seconds/(24.0 * 60 * 60)\n",
    "        \n",
    "    return days_improvement + day_fraction"
   ]
  },
  {
   "cell_type": "code",
   "execution_count": 23,
   "metadata": {
    "collapsed": true
   },
   "outputs": [],
   "source": [
    "# same as above cell except returns avg days improvement as well as vector of improvement deltas and dataframe\n",
    "# of failed inspections\n",
    "def avg_days_improvement_2(model, X, y):\n",
    "    \n",
    "    global inspection_date\n",
    "    inspection_date_2 = inspection_date.drop(X.index)\n",
    "    inspection_date_3 = inspection_date.drop(inspection_date_2.index)\n",
    "    inspection_date_sort = inspection_date_3.sort_values().values\n",
    "    \n",
    "    proba_y = model.predict_proba(X)\n",
    "\n",
    "    date_result = pd.concat([inspection_date_3, y], axis = 1)\n",
    "    date_result_sort = date_result.sort_values(by = [date_result.columns[0]])\n",
    "    \n",
    "    X_y = pd.concat([X, y], axis = 1)\n",
    "    X_y['Prob Fail'] = pd.Series(proba_y[:, 1], index = X_y.index)\n",
    "    date_proba_result_sort = X_y.loc[:, ('Prob Fail', 'Results_Fail')].sort_values(['Prob Fail'], ascending = False)\n",
    "    date_proba_result_sort['Inspection Date 2'] = pd.Series(inspection_date_sort, index = date_proba_result_sort.index)\n",
    "\n",
    "    date_result_pred = pd.concat([date_result_sort, date_proba_result_sort], axis = 1)\n",
    "    date_result_pred_2 = date_result_pred.iloc[:, (0, 1, 2, 4)]\n",
    "\n",
    "    fail_df = date_result_pred_2[date_result_pred_2['Results_Fail'] == 1]\n",
    "    fail_df['Original - New'] = pd.Series(pd.to_datetime(fail_df['Inspection Date']) - pd.to_datetime(fail_df['Inspection Date 2']))\n",
    "    \n",
    "    mean_improvement = np.mean(fail_df['Original - New'])\n",
    "    days_improvement = mean_improvement.days\n",
    "    day_fraction = mean_improvement.seconds/(24.0 * 60 * 60)\n",
    "    \n",
    "    improvement_vec = np.array(fail_df['Original - New']) * (1.15741 * (10 ** -14))\n",
    "    improvement_vec_2 = [int(improvement_vec[i]) for i in range(len(improvement_vec))]\n",
    "        \n",
    "    return days_improvement + day_fraction, improvement_vec_2, fail_df"
   ]
  },
  {
   "cell_type": "code",
   "execution_count": 8,
   "metadata": {
    "collapsed": false
   },
   "outputs": [
    {
     "name": "stdout",
     "output_type": "stream",
     "text": [
      "LDA test accuracy score: 0.738927738928\n"
     ]
    }
   ],
   "source": [
    "#lda initial results\n",
    "lda = discriminant_analysis.LinearDiscriminantAnalysis()\n",
    "lda.fit(canvass_train_x, canvass_train_y)\n",
    "print 'LDA test accuracy score: ' + str(lda.score(canvass_test_x, canvass_test_y))"
   ]
  },
  {
   "cell_type": "code",
   "execution_count": 9,
   "metadata": {
    "collapsed": false
   },
   "outputs": [
    {
     "name": "stdout",
     "output_type": "stream",
     "text": [
      "QDA test accuracy score: 0.681818181818\n"
     ]
    }
   ],
   "source": [
    "#qda initial results\n",
    "qda = discriminant_analysis.QuadraticDiscriminantAnalysis()\n",
    "qda.fit(canvass_train_x, canvass_train_y)\n",
    "print 'QDA test accuracy score: ' + str(qda.score(canvass_test_x, canvass_test_y))"
   ]
  },
  {
   "cell_type": "code",
   "execution_count": 17,
   "metadata": {
    "collapsed": false
   },
   "outputs": [
    {
     "name": "stdout",
     "output_type": "stream",
     "text": [
      "Logistic regression test score: 0.738927738928\n"
     ]
    }
   ],
   "source": [
    "# logistic regression initial results\n",
    "logreg = linear_model.LogisticRegression(penalty = 'l1', C = 10)\n",
    "logreg.fit(canvass_train_x, canvass_train_y)\n",
    "print 'Logistic regression test score: ' + str(logreg.score(canvass_test_x, canvass_test_y))"
   ]
  },
  {
   "cell_type": "code",
   "execution_count": 11,
   "metadata": {
    "collapsed": false
   },
   "outputs": [
    {
     "name": "stdout",
     "output_type": "stream",
     "text": [
      "Quadatic logistic regression test accuracy score: 0.737762237762\n"
     ]
    }
   ],
   "source": [
    "# quadratic logistic initial results\n",
    "quad_features = preprocessing.PolynomialFeatures(degree = 2)\n",
    "x_train_expanded = quad_features.fit_transform(canvass_train_x)\n",
    "x_test_expanded = quad_features.fit_transform(canvass_test_x)\n",
    "\n",
    "log_reg_poly = linear_model.LogisticRegression(C = 1000)\n",
    "log_reg_poly.fit(x_train_expanded, canvass_train_y)\n",
    "print 'Quadatic logistic regression test accuracy score: ' + str(log_reg_poly.score(x_test_expanded, canvass_test_y))"
   ]
  },
  {
   "cell_type": "code",
   "execution_count": 12,
   "metadata": {
    "collapsed": false
   },
   "outputs": [
    {
     "name": "stdout",
     "output_type": "stream",
     "text": [
      "Random forest test score: 0.738344988345\n"
     ]
    }
   ],
   "source": [
    "# random forest initial results\n",
    "rand_forest = RandomForest(n_estimators = 2001, max_features = 10, max_depth = 9)\n",
    "rand_forest.fit(canvass_train_x, canvass_train_y)\n",
    "print 'Random forest test score: ' + str(rand_forest.score(canvass_test_x, canvass_test_y))"
   ]
  },
  {
   "cell_type": "markdown",
   "metadata": {},
   "source": [
    "We tested several classification models initially to try to determine which ones we should tune the parameters for and consider for our final model. Because there are parameters to tune for logistic regression, we thought we might be able to improve upon the initial result seen here. We also want to tune an ensemble method to see how it would perform. Thus, from here we moved forward with logistic regression and random forest as the potential final models."
   ]
  },
  {
   "cell_type": "code",
   "execution_count": 27,
   "metadata": {
    "collapsed": false
   },
   "outputs": [
    {
     "name": "stderr",
     "output_type": "stream",
     "text": [
      "C:\\Users\\chris\\Anaconda2\\lib\\site-packages\\ipykernel\\__main__.py:30: SettingWithCopyWarning: \n",
      "A value is trying to be set on a copy of a slice from a DataFrame.\n",
      "Try using .loc[row_indexer,col_indexer] = value instead\n",
      "\n",
      "See the caveats in the documentation: http://pandas.pydata.org/pandas-docs/stable/indexing.html#indexing-view-versus-copy\n"
     ]
    },
    {
     "data": {
      "text/plain": [
       "GridSearchCV(cv=4, error_score='raise',\n",
       "       estimator=RandomForestClassifier(bootstrap=True, class_weight=None, criterion='gini',\n",
       "            max_depth=None, max_features='auto', max_leaf_nodes=None,\n",
       "            min_samples_leaf=1, min_samples_split=2,\n",
       "            min_weight_fraction_leaf=0.0, n_estimators=301, n_jobs=1,\n",
       "            oob_score=False, random_state=None, verbose=0,\n",
       "            warm_start=False),\n",
       "       fit_params={}, iid=True, n_jobs=1,\n",
       "       param_grid={'max_features': [1, 2, 3, 4], 'max_depth': [9, 12, 15, 18], 'class_weight': [{0: 1, 1: 1.0}, {0: 1, 1: 1.1}, {0: 1, 1: 1.2}, {0: 1, 1: 1.3}, {0: 1, 1: 1.4}]},\n",
       "       pre_dispatch='2*n_jobs', refit=True,\n",
       "       scoring=<function avg_days_improvement at 0x000000000C31B5F8>,\n",
       "       verbose=0)"
      ]
     },
     "execution_count": 27,
     "metadata": {},
     "output_type": "execute_result"
    }
   ],
   "source": [
    "# random forest parameter tuning\n",
    "# tried with several different ranges\n",
    "rand_forest = RandomForest(n_estimators = 301)\n",
    "\n",
    "parameter_grid = {'max_features' : range(1, 5, 1),\n",
    "                  'max_depth' : range(9, 19, 3),\n",
    "                  'class_weight' : [{0 : 1, 1 : i} for i in [1 + 0.1*j for j in range(5)]]}\n",
    "\n",
    "grid_randfor = sklearn.grid_search.GridSearchCV(rand_forest, parameter_grid, cv = 4, scoring = avg_days_improvement)\n",
    "grid_randfor.fit(canvass_train_x, canvass_train_y)"
   ]
  },
  {
   "cell_type": "code",
   "execution_count": 28,
   "metadata": {
    "collapsed": false
   },
   "outputs": [
    {
     "name": "stdout",
     "output_type": "stream",
     "text": [
      "Best parameters from cross validation: {'max_features': 1, 'max_depth': 9, 'class_weight': {0: 1, 1: 1.0}}\n",
      "CV score of best model: 182.556676664\n",
      "Overall train accuracy: 0.754898590581\n",
      "Train accuracy when restaurant passes: 0.998608017817\n",
      "Train accuracy when restaurant fails: 0.0581055983019\n",
      "Overall test accuracy: 0.740675990676\n",
      "Test accuracy when restaurant passes: 0.998422712934\n",
      "Test accuracy when restaurant fails: 0.0111607142857\n"
     ]
    }
   ],
   "source": [
    "# parameter results from cross validation for random forest\n",
    "# CV score and accuracy scoring\n",
    "# using days improvement function as scoring method for CV\n",
    "proba_randfor_train = grid_randfor.predict_proba(canvass_train_x)\n",
    "proba_randfor_test = grid_randfor.predict_proba(canvass_test_x)\n",
    "\n",
    "# in case I want to alter probability threshold for classifying\n",
    "pred_randfor_train = []\n",
    "for i in range(len(proba_randfor_train)):\n",
    "    if proba_randfor_train[i, 1] >= 0.5:\n",
    "        pred_randfor_train.append(1)\n",
    "    else:\n",
    "        pred_randfor_train.append(0)\n",
    "        \n",
    "# in case I want to alter probability threshold for classifying\n",
    "pred_randfor_test = []\n",
    "for i in range(len(proba_randfor_test)):\n",
    "    if proba_randfor_test[i, 1] >= 0.5:\n",
    "        pred_randfor_test.append(1)\n",
    "    else:\n",
    "        pred_randfor_test.append(0)\n",
    "\n",
    "conf_matrix_train = sklearn.metrics.confusion_matrix(canvass_train_y, pred_randfor_train)\n",
    "tot_true_neg_train = conf_matrix_train[0, 0] + conf_matrix_train[0, 1]\n",
    "tot_true_pos_train = conf_matrix_train[1, 0] + conf_matrix_train[1, 1]\n",
    "\n",
    "conf_matrix_test = sklearn.metrics.confusion_matrix(canvass_test_y, pred_randfor_test)\n",
    "tot_true_neg_test = conf_matrix_test[0, 0] + conf_matrix_test[0, 1]\n",
    "tot_true_pos_test = conf_matrix_test[1, 0] + conf_matrix_test[1, 1]\n",
    "\n",
    "print 'Best parameters from cross validation: ' + str(grid_randfor.best_params_)\n",
    "print 'CV score of best model: ' + str(grid_randfor.best_score_)\n",
    "print 'Overall train accuracy: ' + str((conf_matrix_train[0, 0] + conf_matrix_train[1, 1])/float((tot_true_neg_train + tot_true_pos_train)))\n",
    "print 'Train accuracy when restaurant passes: ' + str(conf_matrix_train[0, 0]/float(tot_true_neg_train))\n",
    "print 'Train accuracy when restaurant fails: ' + str(conf_matrix_train[1, 1]/float(tot_true_pos_train))\n",
    "print 'Overall test accuracy: ' + str((conf_matrix_test[0, 0] + conf_matrix_test[1, 1])/float((tot_true_neg_test + tot_true_pos_test)))\n",
    "print 'Test accuracy when restaurant passes: ' + str(conf_matrix_test[0, 0]/float(tot_true_neg_test))\n",
    "print 'Test accuracy when restaurant fails: ' + str(conf_matrix_test[1, 1]/float(tot_true_pos_test))"
   ]
  },
  {
   "cell_type": "code",
   "execution_count": 35,
   "metadata": {
    "collapsed": false
   },
   "outputs": [
    {
     "name": "stdout",
     "output_type": "stream",
     "text": [
      "Random forest test score: 0.737762237762\n"
     ]
    }
   ],
   "source": [
    "# random forest testing using tuned parameters; want to see variable importances\n",
    "rand_forest_2 = RandomForest(n_estimators = 2001, max_features = 1, class_weight = {0 : 1, 1 : 1.0}, max_depth = 9)\n",
    "rand_forest_2.fit(canvass_train_x, canvass_train_y)\n",
    "print 'Random forest test score: ' + str(rand_forest_2.score(canvass_test_x, canvass_test_y))"
   ]
  },
  {
   "cell_type": "code",
   "execution_count": 36,
   "metadata": {
    "collapsed": false
   },
   "outputs": [
    {
     "data": {
      "text/html": [
       "<div>\n",
       "<table border=\"1\" class=\"dataframe\">\n",
       "  <thead>\n",
       "    <tr style=\"text-align: right;\">\n",
       "      <th></th>\n",
       "      <th>0</th>\n",
       "      <th>1</th>\n",
       "    </tr>\n",
       "  </thead>\n",
       "  <tbody>\n",
       "    <tr>\n",
       "      <th>0</th>\n",
       "      <td>Latitude</td>\n",
       "      <td>0.078048</td>\n",
       "    </tr>\n",
       "    <tr>\n",
       "      <th>1</th>\n",
       "      <td>lat_long_interaction</td>\n",
       "      <td>0.077623</td>\n",
       "    </tr>\n",
       "    <tr>\n",
       "      <th>2</th>\n",
       "      <td>Longitude</td>\n",
       "      <td>0.074577</td>\n",
       "    </tr>\n",
       "    <tr>\n",
       "      <th>3</th>\n",
       "      <td>canvass fail rate</td>\n",
       "      <td>0.058317</td>\n",
       "    </tr>\n",
       "    <tr>\n",
       "      <th>4</th>\n",
       "      <td>inspection-fail interaction</td>\n",
       "      <td>0.051044</td>\n",
       "    </tr>\n",
       "    <tr>\n",
       "      <th>5</th>\n",
       "      <td>Preterm Births</td>\n",
       "      <td>0.047900</td>\n",
       "    </tr>\n",
       "    <tr>\n",
       "      <th>6</th>\n",
       "      <td>consec-fail interaction</td>\n",
       "      <td>0.047504</td>\n",
       "    </tr>\n",
       "    <tr>\n",
       "      <th>7</th>\n",
       "      <td>Firearm-related</td>\n",
       "      <td>0.046525</td>\n",
       "    </tr>\n",
       "    <tr>\n",
       "      <th>8</th>\n",
       "      <td>Low Birth Weight</td>\n",
       "      <td>0.045887</td>\n",
       "    </tr>\n",
       "    <tr>\n",
       "      <th>9</th>\n",
       "      <td>PERCENT HOUSEHOLDS BELOW POVERTY</td>\n",
       "      <td>0.045612</td>\n",
       "    </tr>\n",
       "    <tr>\n",
       "      <th>10</th>\n",
       "      <td>PERCENT AGED 16+ UNEMPLOYED</td>\n",
       "      <td>0.044846</td>\n",
       "    </tr>\n",
       "    <tr>\n",
       "      <th>11</th>\n",
       "      <td>num_complaints_comm_area</td>\n",
       "      <td>0.042027</td>\n",
       "    </tr>\n",
       "    <tr>\n",
       "      <th>12</th>\n",
       "      <td>Prenatal Care Beginning in First Trimester</td>\n",
       "      <td>0.041950</td>\n",
       "    </tr>\n",
       "    <tr>\n",
       "      <th>13</th>\n",
       "      <td>num prev canvass inspections</td>\n",
       "      <td>0.041331</td>\n",
       "    </tr>\n",
       "    <tr>\n",
       "      <th>14</th>\n",
       "      <td>num_crimes_comm_area</td>\n",
       "      <td>0.037086</td>\n",
       "    </tr>\n",
       "    <tr>\n",
       "      <th>15</th>\n",
       "      <td>Tuberculosis</td>\n",
       "      <td>0.037066</td>\n",
       "    </tr>\n",
       "    <tr>\n",
       "      <th>16</th>\n",
       "      <td>inspection-complaint interaction</td>\n",
       "      <td>0.032783</td>\n",
       "    </tr>\n",
       "    <tr>\n",
       "      <th>17</th>\n",
       "      <td>complaint fail rate</td>\n",
       "      <td>0.029213</td>\n",
       "    </tr>\n",
       "    <tr>\n",
       "      <th>18</th>\n",
       "      <td>num prev complaint inspections</td>\n",
       "      <td>0.024824</td>\n",
       "    </tr>\n",
       "    <tr>\n",
       "      <th>19</th>\n",
       "      <td>last inspection fail</td>\n",
       "      <td>0.023654</td>\n",
       "    </tr>\n",
       "    <tr>\n",
       "      <th>20</th>\n",
       "      <td>Facility Type_Restaurant</td>\n",
       "      <td>0.017517</td>\n",
       "    </tr>\n",
       "    <tr>\n",
       "      <th>21</th>\n",
       "      <td>Facility Type_Grocery Store</td>\n",
       "      <td>0.015704</td>\n",
       "    </tr>\n",
       "    <tr>\n",
       "      <th>22</th>\n",
       "      <td>Risk_Risk 1 (High)</td>\n",
       "      <td>0.015418</td>\n",
       "    </tr>\n",
       "    <tr>\n",
       "      <th>23</th>\n",
       "      <td>Risk_Risk 2 (Medium)</td>\n",
       "      <td>0.013024</td>\n",
       "    </tr>\n",
       "    <tr>\n",
       "      <th>24</th>\n",
       "      <td>Facility Type_Daycare 2</td>\n",
       "      <td>0.010521</td>\n",
       "    </tr>\n",
       "  </tbody>\n",
       "</table>\n",
       "</div>"
      ],
      "text/plain": [
       "                                             0         1\n",
       "0                                     Latitude  0.078048\n",
       "1                         lat_long_interaction  0.077623\n",
       "2                                    Longitude  0.074577\n",
       "3                            canvass fail rate  0.058317\n",
       "4                  inspection-fail interaction  0.051044\n",
       "5                               Preterm Births  0.047900\n",
       "6                      consec-fail interaction  0.047504\n",
       "7                              Firearm-related  0.046525\n",
       "8                             Low Birth Weight  0.045887\n",
       "9             PERCENT HOUSEHOLDS BELOW POVERTY  0.045612\n",
       "10                 PERCENT AGED 16+ UNEMPLOYED  0.044846\n",
       "11                    num_complaints_comm_area  0.042027\n",
       "12  Prenatal Care Beginning in First Trimester  0.041950\n",
       "13                num prev canvass inspections  0.041331\n",
       "14                        num_crimes_comm_area  0.037086\n",
       "15                                Tuberculosis  0.037066\n",
       "16            inspection-complaint interaction  0.032783\n",
       "17                         complaint fail rate  0.029213\n",
       "18              num prev complaint inspections  0.024824\n",
       "19                        last inspection fail  0.023654\n",
       "20                    Facility Type_Restaurant  0.017517\n",
       "21                 Facility Type_Grocery Store  0.015704\n",
       "22                          Risk_Risk 1 (High)  0.015418\n",
       "23                        Risk_Risk 2 (Medium)  0.013024\n",
       "24                     Facility Type_Daycare 2  0.010521"
      ]
     },
     "execution_count": 36,
     "metadata": {},
     "output_type": "execute_result"
    }
   ],
   "source": [
    "# create data frame of feature importances from random forest\n",
    "var_imp = pd.Series(rand_forest_2.feature_importances_)\n",
    "predictors = pd.Series(canvass_train_x.columns)\n",
    "\n",
    "var_imp_df = pd.concat([predictors, var_imp], axis = 1, ignore_index = True)\n",
    "\n",
    "var_imp_df_sort = var_imp_df.sort_values(by = [1], ascending = False)\n",
    "var_imp_df_sort.reset_index(drop = True, inplace = True)\n",
    "var_imp_df_sort"
   ]
  },
  {
   "cell_type": "code",
   "execution_count": 249,
   "metadata": {
    "collapsed": false
   },
   "outputs": [
    {
     "name": "stderr",
     "output_type": "stream",
     "text": [
      "C:\\Users\\chris\\Anaconda2\\lib\\site-packages\\ipykernel\\__main__.py:22: SettingWithCopyWarning: \n",
      "A value is trying to be set on a copy of a slice from a DataFrame.\n",
      "Try using .loc[row_indexer,col_indexer] = value instead\n",
      "\n",
      "See the caveats in the documentation: http://pandas.pydata.org/pandas-docs/stable/indexing.html#indexing-view-versus-copy\n"
     ]
    },
    {
     "data": {
      "text/plain": [
       "GridSearchCV(cv=4, error_score='raise',\n",
       "       estimator=LogisticRegression(C=1.0, class_weight=None, dual=False, fit_intercept=True,\n",
       "          intercept_scaling=1, max_iter=100, multi_class='ovr', n_jobs=1,\n",
       "          penalty='l1', random_state=None, solver='liblinear', tol=0.0001,\n",
       "          verbose=0, warm_start=False),\n",
       "       fit_params={}, iid=True, n_jobs=1,\n",
       "       param_grid={'C': [1000, 100, 10, 1, 0.1, 0.01], 'class_weight': [{0: 1, 1: 1.0}, {0: 1, 1: 1.1}, {0: 1, 1: 1.2}, {0: 1, 1: 1.3}, {0: 1, 1: 1.4}]},\n",
       "       pre_dispatch='2*n_jobs', refit=True,\n",
       "       scoring=<function avg_days_improvement at 0x000000001D3965F8>,\n",
       "       verbose=0)"
      ]
     },
     "execution_count": 249,
     "metadata": {},
     "output_type": "execute_result"
    }
   ],
   "source": [
    "# logistic parameter tuning\n",
    "# using days improvement function as scoring method for CV\n",
    "# tried different ranges\n",
    "log_reg = linear_model.LogisticRegression(penalty = 'l1')\n",
    "\n",
    "parameter_grid = {'C' : [10**i for i in range(3, -3, -1)],\n",
    "                  'class_weight' : [{0 : 1, 1 : i} for i in [1 + 0.1*j for j in range(5)]]}\n",
    "\n",
    "grid_log_reg = sklearn.grid_search.GridSearchCV(log_reg, parameter_grid, cv = 4, scoring = avg_days_improvement)\n",
    "grid_log_reg.fit(canvass_train_x, canvass_train_y)"
   ]
  },
  {
   "cell_type": "code",
   "execution_count": 251,
   "metadata": {
    "collapsed": false
   },
   "outputs": [
    {
     "name": "stdout",
     "output_type": "stream",
     "text": [
      "Best parameters from cross validation: {'C': 10, 'class_weight': {0: 1, 1: 1.0}}\n",
      "CV score of best model: 143.748252633\n",
      "Overall train accuracy: 0.740529391543\n",
      "Train accuracy when restaurant passes: 0.992668893838\n",
      "Train accuracy when restaurant fails: 0.019633855134\n",
      "Overall test accuracy: 0.737762237762\n",
      "Test accuracy when restaurant passes: 0.996845425868\n",
      "Test accuracy when restaurant fails: 0.00446428571429\n"
     ]
    }
   ],
   "source": [
    "# parameter results from cross validation for logistic\n",
    "# CV score and accuracy scoring\n",
    "# using days improvement function as scoring method for CV\n",
    "proba_log_train = grid_log_reg.predict_proba(canvass_train_x)\n",
    "proba_log_test = grid_log_reg.predict_proba(canvass_test_x)\n",
    "\n",
    "# in case I want to alter probability threshold for classifying\n",
    "pred_log_train = []\n",
    "for i in range(len(proba_log_train)):\n",
    "    if proba_log_train[i, 1] >= 0.5:\n",
    "        pred_log_train.append(1)\n",
    "    else:\n",
    "        pred_log_train.append(0)\n",
    "        \n",
    "# in case I want to alter probability threshold for classifying\n",
    "pred_log_test = []\n",
    "for i in range(len(proba_log_test)):\n",
    "    if proba_log_test[i, 1] >= 0.5:\n",
    "        pred_log_test.append(1)\n",
    "    else:\n",
    "        pred_log_test.append(0)\n",
    "\n",
    "conf_matrix_train = sklearn.metrics.confusion_matrix(canvass_train_y, pred_log_train)\n",
    "tot_true_neg_train = conf_matrix_train[0, 0] + conf_matrix_train[0, 1]\n",
    "tot_true_pos_train = conf_matrix_train[1, 0] + conf_matrix_train[1, 1]\n",
    "\n",
    "conf_matrix_test = sklearn.metrics.confusion_matrix(canvass_test_y, pred_log_test)\n",
    "tot_true_neg_test = conf_matrix_test[0, 0] + conf_matrix_test[0, 1]\n",
    "tot_true_pos_test = conf_matrix_test[1, 0] + conf_matrix_test[1, 1]\n",
    "\n",
    "print 'Best parameters from cross validation: ' + str(grid_log_reg.best_params_)\n",
    "print 'CV score of best model: ' + str(grid_log_reg.best_score_)\n",
    "print 'Overall train accuracy: ' + str((conf_matrix_train[0, 0] + conf_matrix_train[1, 1])/float((tot_true_neg_train + tot_true_pos_train)))\n",
    "print 'Train accuracy when restaurant passes: ' + str(conf_matrix_train[0, 0]/float(tot_true_neg_train))\n",
    "print 'Train accuracy when restaurant fails: ' + str(conf_matrix_train[1, 1]/float(tot_true_pos_train))\n",
    "print 'Overall test accuracy: ' + str((conf_matrix_test[0, 0] + conf_matrix_test[1, 1])/float((tot_true_neg_test + tot_true_pos_test)))\n",
    "print 'Test accuracy when restaurant passes: ' + str(conf_matrix_test[0, 0]/float(tot_true_neg_test))\n",
    "print 'Test accuracy when restaurant fails: ' + str(conf_matrix_test[1, 1]/float(tot_true_pos_test))"
   ]
  },
  {
   "cell_type": "code",
   "execution_count": 20,
   "metadata": {
    "collapsed": false
   },
   "outputs": [
    {
     "name": "stdout",
     "output_type": "stream",
     "text": [
      "Logistic regression test score: 0.73951048951\n"
     ]
    }
   ],
   "source": [
    "# log reg testing using tuned parameters; want to see variable coefficients\n",
    "log_reg_2 = linear_model.LogisticRegression(penalty = 'l1', class_weight = {0 : 1, 1 : 1.0}, C = 10)\n",
    "log_reg_2.fit(canvass_train_x, canvass_train_y)\n",
    "\n",
    "print 'Logistic regression test score: ' + str(log_reg_2.score(canvass_test_x, canvass_test_y))"
   ]
  },
  {
   "cell_type": "code",
   "execution_count": 11,
   "metadata": {
    "collapsed": false
   },
   "outputs": [
    {
     "data": {
      "text/html": [
       "<div>\n",
       "<table border=\"1\" class=\"dataframe\">\n",
       "  <thead>\n",
       "    <tr style=\"text-align: right;\">\n",
       "      <th></th>\n",
       "      <th>0</th>\n",
       "      <th>1</th>\n",
       "    </tr>\n",
       "  </thead>\n",
       "  <tbody>\n",
       "    <tr>\n",
       "      <th>0</th>\n",
       "      <td>canvass fail rate</td>\n",
       "      <td>0.695033</td>\n",
       "    </tr>\n",
       "    <tr>\n",
       "      <th>1</th>\n",
       "      <td>complaint fail rate</td>\n",
       "      <td>0.168255</td>\n",
       "    </tr>\n",
       "    <tr>\n",
       "      <th>2</th>\n",
       "      <td>num prev complaint inspections</td>\n",
       "      <td>0.138893</td>\n",
       "    </tr>\n",
       "    <tr>\n",
       "      <th>3</th>\n",
       "      <td>last inspection fail</td>\n",
       "      <td>0.137320</td>\n",
       "    </tr>\n",
       "    <tr>\n",
       "      <th>4</th>\n",
       "      <td>Preterm Births</td>\n",
       "      <td>0.055204</td>\n",
       "    </tr>\n",
       "    <tr>\n",
       "      <th>5</th>\n",
       "      <td>inspection-fail interaction</td>\n",
       "      <td>0.030996</td>\n",
       "    </tr>\n",
       "    <tr>\n",
       "      <th>6</th>\n",
       "      <td>Risk_Risk 1 (High)</td>\n",
       "      <td>0.021629</td>\n",
       "    </tr>\n",
       "    <tr>\n",
       "      <th>7</th>\n",
       "      <td>PERCENT HOUSEHOLDS BELOW POVERTY</td>\n",
       "      <td>0.012224</td>\n",
       "    </tr>\n",
       "    <tr>\n",
       "      <th>8</th>\n",
       "      <td>Firearm-related</td>\n",
       "      <td>0.004794</td>\n",
       "    </tr>\n",
       "    <tr>\n",
       "      <th>9</th>\n",
       "      <td>Tuberculosis</td>\n",
       "      <td>0.002833</td>\n",
       "    </tr>\n",
       "    <tr>\n",
       "      <th>10</th>\n",
       "      <td>Longitude</td>\n",
       "      <td>0.002551</td>\n",
       "    </tr>\n",
       "    <tr>\n",
       "      <th>11</th>\n",
       "      <td>num_complaints_comm_area</td>\n",
       "      <td>0.000121</td>\n",
       "    </tr>\n",
       "    <tr>\n",
       "      <th>12</th>\n",
       "      <td>lat_long_interaction</td>\n",
       "      <td>0.000059</td>\n",
       "    </tr>\n",
       "    <tr>\n",
       "      <th>13</th>\n",
       "      <td>num_crimes_comm_area</td>\n",
       "      <td>-0.000033</td>\n",
       "    </tr>\n",
       "    <tr>\n",
       "      <th>14</th>\n",
       "      <td>Prenatal Care Beginning in First Trimester</td>\n",
       "      <td>-0.004848</td>\n",
       "    </tr>\n",
       "    <tr>\n",
       "      <th>15</th>\n",
       "      <td>Low Birth Weight</td>\n",
       "      <td>-0.008207</td>\n",
       "    </tr>\n",
       "    <tr>\n",
       "      <th>16</th>\n",
       "      <td>PERCENT AGED 16+ UNEMPLOYED</td>\n",
       "      <td>-0.008459</td>\n",
       "    </tr>\n",
       "    <tr>\n",
       "      <th>17</th>\n",
       "      <td>Latitude</td>\n",
       "      <td>-0.011260</td>\n",
       "    </tr>\n",
       "    <tr>\n",
       "      <th>18</th>\n",
       "      <td>inspection-complaint interaction</td>\n",
       "      <td>-0.021590</td>\n",
       "    </tr>\n",
       "    <tr>\n",
       "      <th>19</th>\n",
       "      <td>num prev canvass inspections</td>\n",
       "      <td>-0.076410</td>\n",
       "    </tr>\n",
       "    <tr>\n",
       "      <th>20</th>\n",
       "      <td>Facility Type_Grocery Store</td>\n",
       "      <td>-0.162460</td>\n",
       "    </tr>\n",
       "    <tr>\n",
       "      <th>21</th>\n",
       "      <td>consec-fail interaction</td>\n",
       "      <td>-0.197777</td>\n",
       "    </tr>\n",
       "    <tr>\n",
       "      <th>22</th>\n",
       "      <td>Risk_Risk 2 (Medium)</td>\n",
       "      <td>-0.237557</td>\n",
       "    </tr>\n",
       "    <tr>\n",
       "      <th>23</th>\n",
       "      <td>Facility Type_Restaurant</td>\n",
       "      <td>-0.265823</td>\n",
       "    </tr>\n",
       "    <tr>\n",
       "      <th>24</th>\n",
       "      <td>Facility Type_Daycare 2</td>\n",
       "      <td>-0.867778</td>\n",
       "    </tr>\n",
       "  </tbody>\n",
       "</table>\n",
       "</div>"
      ],
      "text/plain": [
       "                                             0         1\n",
       "0                            canvass fail rate  0.695033\n",
       "1                          complaint fail rate  0.168255\n",
       "2               num prev complaint inspections  0.138893\n",
       "3                         last inspection fail  0.137320\n",
       "4                               Preterm Births  0.055204\n",
       "5                  inspection-fail interaction  0.030996\n",
       "6                           Risk_Risk 1 (High)  0.021629\n",
       "7             PERCENT HOUSEHOLDS BELOW POVERTY  0.012224\n",
       "8                              Firearm-related  0.004794\n",
       "9                                 Tuberculosis  0.002833\n",
       "10                                   Longitude  0.002551\n",
       "11                    num_complaints_comm_area  0.000121\n",
       "12                        lat_long_interaction  0.000059\n",
       "13                        num_crimes_comm_area -0.000033\n",
       "14  Prenatal Care Beginning in First Trimester -0.004848\n",
       "15                            Low Birth Weight -0.008207\n",
       "16                 PERCENT AGED 16+ UNEMPLOYED -0.008459\n",
       "17                                    Latitude -0.011260\n",
       "18            inspection-complaint interaction -0.021590\n",
       "19                num prev canvass inspections -0.076410\n",
       "20                 Facility Type_Grocery Store -0.162460\n",
       "21                     consec-fail interaction -0.197777\n",
       "22                        Risk_Risk 2 (Medium) -0.237557\n",
       "23                    Facility Type_Restaurant -0.265823\n",
       "24                     Facility Type_Daycare 2 -0.867778"
      ]
     },
     "execution_count": 11,
     "metadata": {},
     "output_type": "execute_result"
    }
   ],
   "source": [
    "# create data frame of logistic coefficients\n",
    "coef_series = pd.Series(log_reg_2.coef_[0])\n",
    "predictors = pd.Series(canvass_train_x.columns)\n",
    "\n",
    "coef_df = pd.concat([predictors, coef_series], axis = 1, ignore_index = True)\n",
    "\n",
    "coef_df_sort = coef_df.sort_values(by = [1], ascending = False)\n",
    "coef_df_sort.reset_index(drop = True, inplace = True)\n",
    "coef_df_sort"
   ]
  },
  {
   "cell_type": "code",
   "execution_count": 31,
   "metadata": {
    "collapsed": false
   },
   "outputs": [
    {
     "data": {
      "text/plain": [
       "GridSearchCV(cv=4, error_score='raise',\n",
       "       estimator=LogisticRegression(C=1.0, class_weight=None, dual=False, fit_intercept=True,\n",
       "          intercept_scaling=1, max_iter=100, multi_class='ovr', n_jobs=1,\n",
       "          penalty='l2', random_state=None, solver='liblinear', tol=0.0001,\n",
       "          verbose=0, warm_start=False),\n",
       "       fit_params={}, iid=True, n_jobs=1,\n",
       "       param_grid={'penalty': ['l1', 'l2'], 'C': [100, 10, 1, 0.1, 0.01], 'class_weight': [{0: 1, 1: 1.0}, {0: 1, 1: 1.1}, {0: 1, 1: 1.2}, {0: 1, 1: 1.3}, {0: 1, 1: 1.4}]},\n",
       "       pre_dispatch='2*n_jobs', refit=True, scoring=None, verbose=0)"
      ]
     },
     "execution_count": 31,
     "metadata": {},
     "output_type": "execute_result"
    }
   ],
   "source": [
    "# logistic parameter tuning\n",
    "# using accuracy as function to optimize\n",
    "# tried different ranges\n",
    "log_reg_3 = linear_model.LogisticRegression()\n",
    "\n",
    "parameter_grid = {'C' : [10**i for i in range(2, -3, -1)],\n",
    "                  'penalty' : ['l1', 'l2'],\n",
    "                  'class_weight' : [{0 : 1, 1 : i} for i in [1 + 0.1*j for j in range(5)]]}\n",
    "\n",
    "grid_log_reg_2 = sklearn.grid_search.GridSearchCV(log_reg_3, parameter_grid, cv = 4)\n",
    "grid_log_reg_2.fit(canvass_train_x, canvass_train_y)"
   ]
  },
  {
   "cell_type": "code",
   "execution_count": 32,
   "metadata": {
    "collapsed": false
   },
   "outputs": [
    {
     "name": "stdout",
     "output_type": "stream",
     "text": [
      "Best parameters from cross validation: {'penalty': 'l2', 'C': 0.01, 'class_weight': {0: 1, 1: 1.0}}\n",
      "CV score of best model: 0.739498109316\n",
      "Overall train accuracy: 0.739566861464\n",
      "Train accuracy when restaurant passes: 0.993782479584\n",
      "Train accuracy when restaurant fails: 0.0127354736004\n",
      "Overall test accuracy: 0.736013986014\n",
      "Test accuracy when restaurant passes: 0.991324921136\n",
      "Test accuracy when restaurant fails: 0.0133928571429\n"
     ]
    }
   ],
   "source": [
    "# parameter results from cross validation for logistic\n",
    "# CV score and accuracy scoring\n",
    "proba_log_train = grid_log_reg_2.predict_proba(canvass_train_x)\n",
    "proba_log_test = grid_log_reg_2.predict_proba(canvass_test_x)\n",
    "\n",
    "# in case I want to alter probability threshold for classifying\n",
    "pred_log_train = []\n",
    "for i in range(len(proba_log_train)):\n",
    "    if proba_log_train[i, 1] >= 0.5:\n",
    "        pred_log_train.append(1)\n",
    "    else:\n",
    "        pred_log_train.append(0)\n",
    "        \n",
    "# in case I want to alter probability threshold for classifying\n",
    "pred_log_test = []\n",
    "for i in range(len(proba_log_test)):\n",
    "    if proba_log_test[i, 1] >= 0.5:\n",
    "        pred_log_test.append(1)\n",
    "    else:\n",
    "        pred_log_test.append(0)\n",
    "\n",
    "conf_matrix_train = sklearn.metrics.confusion_matrix(canvass_train_y, pred_log_train)\n",
    "tot_true_neg_train = conf_matrix_train[0, 0] + conf_matrix_train[0, 1]\n",
    "tot_true_pos_train = conf_matrix_train[1, 0] + conf_matrix_train[1, 1]\n",
    "\n",
    "conf_matrix_test = sklearn.metrics.confusion_matrix(canvass_test_y, pred_log_test)\n",
    "tot_true_neg_test = conf_matrix_test[0, 0] + conf_matrix_test[0, 1]\n",
    "tot_true_pos_test = conf_matrix_test[1, 0] + conf_matrix_test[1, 1]\n",
    "\n",
    "print 'Best parameters from cross validation: ' + str(grid_log_reg_2.best_params_)\n",
    "print 'CV score of best model: ' + str(grid_log_reg_2.best_score_)\n",
    "print 'Overall train accuracy: ' + str((conf_matrix_train[0, 0] + conf_matrix_train[1, 1])/float((tot_true_neg_train + tot_true_pos_train)))\n",
    "print 'Train accuracy when restaurant passes: ' + str(conf_matrix_train[0, 0]/float(tot_true_neg_train))\n",
    "print 'Train accuracy when restaurant fails: ' + str(conf_matrix_train[1, 1]/float(tot_true_pos_train))\n",
    "print 'Overall test accuracy: ' + str((conf_matrix_test[0, 0] + conf_matrix_test[1, 1])/float((tot_true_neg_test + tot_true_pos_test)))\n",
    "print 'Test accuracy when restaurant passes: ' + str(conf_matrix_test[0, 0]/float(tot_true_neg_test))\n",
    "print 'Test accuracy when restaurant fails: ' + str(conf_matrix_test[1, 1]/float(tot_true_pos_test))"
   ]
  },
  {
   "cell_type": "code",
   "execution_count": 33,
   "metadata": {
    "collapsed": false
   },
   "outputs": [
    {
     "name": "stderr",
     "output_type": "stream",
     "text": [
      "C:\\Users\\chris\\Anaconda2\\lib\\site-packages\\ipykernel\\__main__.py:24: SettingWithCopyWarning: \n",
      "A value is trying to be set on a copy of a slice from a DataFrame.\n",
      "Try using .loc[row_indexer,col_indexer] = value instead\n",
      "\n",
      "See the caveats in the documentation: http://pandas.pydata.org/pandas-docs/stable/indexing.html#indexing-view-versus-copy\n"
     ]
    },
    {
     "data": {
      "image/png": "[encoded data removed]",
      "text/plain": [
       "<matplotlib.figure.Figure at 0x122e7a20>"
      ]
     },
     "metadata": {},
     "output_type": "display_data"
    },
    {
     "name": "stdout",
     "output_type": "stream",
     "text": [
      "Avg days improvement: 7.35490740741\n",
      "Median days improvement: 3.5\n",
      "Standard deviation of days improvement: 41.1566738967\n",
      "Proportion of failures found earlier: 0.553571428571\n",
      "Proportion of failures that would have been found in July and August using random forest: 0.756696428571\n",
      "Proportion of failures actually found in July and August: 0.683035714286\n"
     ]
    }
   ],
   "source": [
    "# logistic regression model using days improvement as function to optimize; histogram of days improvement for each \n",
    "# restaurant in test set\n",
    "days_improve = avg_days_improvement_2(log_reg_2, canvass_test_x, canvass_test_y)\n",
    "\n",
    "positive = [days_improve[1][i] for i in range(len(days_improve[1])) if days_improve[1][i] >= 0]\n",
    "negative = [days_improve[1][i] for i in range(len(days_improve[1])) if days_improve[1][i] < 0]\n",
    "plt.hist(positive, bins = 11, color = 'g')\n",
    "plt.hist(negative, bins = 11, color = 'r')\n",
    "plt.title('Histogram of Days Improvement for Inspection Failures')\n",
    "plt.xlabel('Days Improvement')\n",
    "plt.ylabel('Frequency')\n",
    "plt.show()\n",
    "print 'Avg days improvement: ' + str(days_improve[0])\n",
    "print 'Median days improvement: ' + str(np.median(days_improve[1]))\n",
    "print 'Standard deviation of days improvement: ' + str(np.std(days_improve[1]))\n",
    "print 'Proportion of failures found earlier: ' + str(len(positive)/float(len(days_improve[1])))\n",
    "print 'Proportion of failures that would have been found in July and August using random forest: ' + str(len(days_improve[2][days_improve[2]['Inspection Date 2'] < '2016-09-01'])/float(len(days_improve[2])))\n",
    "print 'Proportion of failures actually found in July and August: ' + str(len(days_improve[2][days_improve[2]['Inspection Date'] < '2016-09-01'])/float(len(days_improve[2])))"
   ]
  },
  {
   "cell_type": "code",
   "execution_count": 34,
   "metadata": {
    "collapsed": false
   },
   "outputs": [
    {
     "name": "stderr",
     "output_type": "stream",
     "text": [
      "C:\\Users\\chris\\Anaconda2\\lib\\site-packages\\ipykernel\\__main__.py:24: SettingWithCopyWarning: \n",
      "A value is trying to be set on a copy of a slice from a DataFrame.\n",
      "Try using .loc[row_indexer,col_indexer] = value instead\n",
      "\n",
      "See the caveats in the documentation: http://pandas.pydata.org/pandas-docs/stable/indexing.html#indexing-view-versus-copy\n"
     ]
    },
    {
     "data": {
      "image/png": "[encoded data removed]",
      "text/plain": [
       "<matplotlib.figure.Figure at 0x1476d710>"
      ]
     },
     "metadata": {},
     "output_type": "display_data"
    },
    {
     "name": "stdout",
     "output_type": "stream",
     "text": [
      "Avg days improvement: 6.82365740741\n",
      "Median days improvement: 4.0\n",
      "Standard deviation of days improvement: 40.5293398244\n",
      "Proportion of failures found earlier: 0.560267857143\n",
      "Proportion of failures that would have been found in July and August using random forest: 0.758928571429\n",
      "Proportion of failures actually found in July and August: 0.683035714286\n"
     ]
    }
   ],
   "source": [
    "# logistic regression model using accuracy as function to optimize; histogram of days improvement for each \n",
    "# restaurant in test set\n",
    "days_improve_2 = avg_days_improvement_2(grid_log_reg_2, canvass_test_x, canvass_test_y)\n",
    "\n",
    "positive_2 = [days_improve_2[1][i] for i in range(len(days_improve_2[1])) if days_improve_2[1][i] >= 0]\n",
    "negative_2 = [days_improve_2[1][i] for i in range(len(days_improve_2[1])) if days_improve_2[1][i] < 0]\n",
    "plt.hist(positive_2, bins = 11, color = 'g')\n",
    "plt.hist(negative_2, bins = 11, color = 'r')\n",
    "plt.title('Histogram of Days Improvement for Inspection Failures')\n",
    "plt.xlabel('Days Improvement')\n",
    "plt.ylabel('Frequency')\n",
    "plt.show()\n",
    "print 'Avg days improvement: ' + str(days_improve_2[0])\n",
    "print 'Median days improvement: ' + str(np.median(days_improve_2[1]))\n",
    "print 'Standard deviation of days improvement: ' + str(np.std(days_improve_2[1]))\n",
    "print 'Proportion of failures found earlier: ' + str(len(positive_2)/float(len(days_improve_2[1])))\n",
    "print 'Proportion of failures that would have been found in July and August using random forest: ' + str(len(days_improve_2[2][days_improve_2[2]['Inspection Date 2'] < '2016-09-01'])/float(len(days_improve_2[2])))\n",
    "print 'Proportion of failures actually found in July and August: ' + str(len(days_improve_2[2][days_improve_2[2]['Inspection Date'] < '2016-09-01'])/float(len(days_improve_2[2])))"
   ]
  },
  {
   "cell_type": "code",
   "execution_count": 37,
   "metadata": {
    "collapsed": false
   },
   "outputs": [
    {
     "name": "stderr",
     "output_type": "stream",
     "text": [
      "C:\\Users\\chris\\Anaconda2\\lib\\site-packages\\ipykernel\\__main__.py:24: SettingWithCopyWarning: \n",
      "A value is trying to be set on a copy of a slice from a DataFrame.\n",
      "Try using .loc[row_indexer,col_indexer] = value instead\n",
      "\n",
      "See the caveats in the documentation: http://pandas.pydata.org/pandas-docs/stable/indexing.html#indexing-view-versus-copy\n"
     ]
    },
    {
     "data": {
      "image/png": "[encoded data removed]",
      "text/plain": [
       "<matplotlib.figure.Figure at 0x22851b70>"
      ]
     },
     "metadata": {},
     "output_type": "display_data"
    },
    {
     "name": "stdout",
     "output_type": "stream",
     "text": [
      "Avg days improvement: 7.36383101852\n",
      "Median days improvement: 6.0\n",
      "Standard deviation of days improvement: 41.6559487637\n",
      "Proportion of failures found earlier or same date: 0.573660714286\n",
      "Proportion of failures that would have been found in July and August using random forest: 0.75\n",
      "Proportion of failures actually found in July and August: 0.683035714286\n"
     ]
    }
   ],
   "source": [
    "# random forest model using avg days improvement as function to optimize; histogram of days improvement for each \n",
    "# restaurant in test set\n",
    "days_improve_3 = avg_days_improvement_2(rand_forest_2, canvass_test_x, canvass_test_y)\n",
    "\n",
    "positive_3 = [days_improve_3[1][i] for i in range(len(days_improve_3[1])) if days_improve_3[1][i] >= 0]\n",
    "negative_3 = [days_improve_3[1][i] for i in range(len(days_improve_3[1])) if days_improve_3[1][i] < 0]\n",
    "plt.hist(positive_3, bins = 11, color = 'g')\n",
    "plt.hist(negative_3, bins = 11, color = 'r')\n",
    "plt.title('Histogram of Days Improvement for Inspection Failures')\n",
    "plt.xlabel('Days Improvement')\n",
    "plt.ylabel('Frequency')\n",
    "plt.show()\n",
    "print 'Avg days improvement: ' + str(days_improve_3[0])\n",
    "print 'Median days improvement: ' + str(np.median(days_improve_3[1]))\n",
    "print 'Standard deviation of days improvement: ' + str(np.std(days_improve_3[1]))\n",
    "print 'Proportion of failures found earlier or same date: ' + str(len(positive_3)/float(len(days_improve_3[1])))\n",
    "print 'Proportion of failures that would have been found in July and August using random forest: ' + str(len(days_improve_3[2][days_improve_3[2]['Inspection Date 2'] < '2016-09-01'])/float(len(days_improve_3[2])))\n",
    "print 'Proportion of failures actually found in July and August: ' + str(len(days_improve_3[2][days_improve_3[2]['Inspection Date'] < '2016-09-01'])/float(len(days_improve_3[2])))"
   ]
  },
  {
   "cell_type": "code",
   "execution_count": 31,
   "metadata": {
    "collapsed": false
   },
   "outputs": [],
   "source": [
    "# write days improvement vector of selected random forest model to csv\n",
    "days_improve_rand_forest = pd.Series(days_improve_3[1])\n",
    "days_improve_rand_forest.to_csv('days_improve.csv', index = False)"
   ]
  }
 ],
 "metadata": {
  "anaconda-cloud": {},
  "kernelspec": {
   "display_name": "Python [default]",
   "language": "python",
   "name": "python2"
  },
  "language_info": {
   "codemirror_mode": {
    "name": "ipython",
    "version": 2
   },
   "file_extension": ".py",
   "mimetype": "text/x-python",
   "name": "python",
   "nbconvert_exporter": "python",
   "pygments_lexer": "ipython2",
   "version": "2.7.12"
  }
 },
 "nbformat": 4,
 "nbformat_minor": 1
}
